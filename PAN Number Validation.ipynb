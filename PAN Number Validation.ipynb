{
 "cells": [
  {
   "cell_type": "markdown",
   "id": "3b673cbb-ca25-4892-8f90-5ecb3a893514",
   "metadata": {},
   "source": [
    "# Importing Libraries"
   ]
  },
  {
   "cell_type": "code",
   "execution_count": 2,
   "id": "d3fc03b3-60d3-433b-8271-b78671aff1fd",
   "metadata": {},
   "outputs": [],
   "source": [
    "import pandas as pd\n",
    "import re\n"
   ]
  },
  {
   "cell_type": "code",
   "execution_count": 3,
   "id": "3508b843-937b-4805-9887-1e00331b059a",
   "metadata": {},
   "outputs": [
    {
     "name": "stdout",
     "output_type": "stream",
     "text": [
      "    Pan_Numbers\n",
      "0    VGLOD3180G\n",
      "1    PHOXD7232L\n",
      "2    MGEPH6532A\n",
      "3    JJCHK4574O\n",
      "4    XTQIJ2330L\n",
      "5    HTJYM3835H\n",
      "6    YQTAP6661X\n",
      "7    hvofe5635y\n",
      "8  hyuij7902r  \n",
      "9    idsmt3429e\n",
      "10000\n"
     ]
    }
   ],
   "source": [
    "df = pd.read_excel(\"PAN Number Validation Dataset.xlsx\")\n",
    "print(df.head(10))\n",
    "total_records = len(df)\n",
    "print(total_records)\n",
    "                   "
   ]
  },
  {
   "cell_type": "code",
   "execution_count": 4,
   "id": "7de1a1cf-c66f-4cff-b5bc-22fb83c0a446",
   "metadata": {},
   "outputs": [
    {
     "name": "stdout",
     "output_type": "stream",
     "text": [
      "Pan_Numbers    object\n",
      "dtype: object\n",
      "Total records =  10000\n"
     ]
    }
   ],
   "source": [
    "print(df.dtypes)\n",
    "\n",
    "print('Total records = ',len(df))\n"
   ]
  },
  {
   "cell_type": "code",
   "execution_count": 5,
   "id": "58532dfa-68ca-4bd9-84c7-477c0670103a",
   "metadata": {},
   "outputs": [
    {
     "name": "stdout",
     "output_type": "stream",
     "text": [
      "Pan_Numbers    string[python]\n",
      "dtype: object\n",
      "  Pan_Numbers\n",
      "0  VGLOD3180G\n",
      "1  PHOXD7232L\n",
      "2  MGEPH6532A\n",
      "3  JJCHK4574O\n",
      "4  XTQIJ2330L\n",
      "5  HTJYM3835H\n",
      "6  YQTAP6661X\n",
      "7  HVOFE5635Y\n",
      "8  HYUIJ7902R\n",
      "9  IDSMT3429E\n"
     ]
    }
   ],
   "source": [
    "df['Pan_Numbers'] = df['Pan_Numbers'].astype('string').str.strip().str.upper()\n",
    "print(df.dtypes)\n",
    "print(df.head(10))\n",
    "                                             "
   ]
  },
  {
   "cell_type": "code",
   "execution_count": 6,
   "id": "c6526264-1f9f-4504-8770-b1cf182dcef8",
   "metadata": {},
   "outputs": [
    {
     "name": "stdout",
     "output_type": "stream",
     "text": [
      "     Pan_Numbers\n",
      "5019            \n",
      "5020            \n"
     ]
    }
   ],
   "source": [
    "print(df[df['Pan_Numbers'] == ''])"
   ]
  },
  {
   "cell_type": "code",
   "execution_count": 7,
   "id": "751c6e65-fe47-4702-8a6f-bcd073115ae5",
   "metadata": {},
   "outputs": [
    {
     "name": "stdout",
     "output_type": "stream",
     "text": [
      "     Pan_Numbers\n",
      "5022        <NA>\n",
      "5027        <NA>\n",
      "5033        <NA>\n",
      "5043        <NA>\n",
      "5057        <NA>\n",
      "...          ...\n",
      "9961        <NA>\n",
      "9972        <NA>\n",
      "9986        <NA>\n",
      "9987        <NA>\n",
      "9997        <NA>\n",
      "\n",
      "[965 rows x 1 columns]\n"
     ]
    }
   ],
   "source": [
    "print(df[df['Pan_Numbers'].isna()])"
   ]
  },
  {
   "cell_type": "code",
   "execution_count": 8,
   "id": "7606c114-2662-43ad-9d15-60af8d4c2f10",
   "metadata": {},
   "outputs": [
    {
     "name": "stdout",
     "output_type": "stream",
     "text": [
      "Empty DataFrame\n",
      "Columns: [Pan_Numbers]\n",
      "Index: []\n",
      "     Pan_Numbers\n",
      "5019        <NA>\n",
      "5020        <NA>\n",
      "5022        <NA>\n",
      "5027        <NA>\n",
      "5033        <NA>\n",
      "...          ...\n",
      "9961        <NA>\n",
      "9972        <NA>\n",
      "9986        <NA>\n",
      "9987        <NA>\n",
      "9997        <NA>\n",
      "\n",
      "[967 rows x 1 columns]\n"
     ]
    }
   ],
   "source": [
    "df = df.replace({'Pan_Numbers':''},pd.NA)\n",
    "print(df[df['Pan_Numbers'] == ''])\n",
    "print(df[df['Pan_Numbers'].isna()])\n",
    "#missing_values = len(df2[df2['Pan_Numbers'].isna()])\n",
    "#print(missing_values)"
   ]
  },
  {
   "cell_type": "code",
   "execution_count": 9,
   "id": "50ec6910-8aa0-466a-94b7-fb227a95023f",
   "metadata": {},
   "outputs": [
    {
     "name": "stdout",
     "output_type": "stream",
     "text": [
      "Total records:  9033\n"
     ]
    }
   ],
   "source": [
    "df = df.replace({'Pan_Numbers':''},pd.NA).dropna(subset='Pan_Numbers')\n",
    "print(\"Total records: \",len(df))"
   ]
  },
  {
   "cell_type": "code",
   "execution_count": 10,
   "id": "f3b9d60d-df5e-433d-8a05-ac3e77647e7f",
   "metadata": {},
   "outputs": [
    {
     "name": "stdout",
     "output_type": "stream",
     "text": [
      "Unique values =  9025\n"
     ]
    }
   ],
   "source": [
    "print('Unique values = ',df['Pan_Numbers'].nunique())"
   ]
  },
  {
   "cell_type": "code",
   "execution_count": 11,
   "id": "e4b7e2c1-b28a-4f55-b384-a5bfdb32e924",
   "metadata": {},
   "outputs": [
    {
     "name": "stdout",
     "output_type": "stream",
     "text": [
      "total records =  9025\n"
     ]
    }
   ],
   "source": [
    "df = df.drop_duplicates(subset='Pan_Numbers',keep='first')\n",
    "print('total records = ',len(df))"
   ]
  },
  {
   "cell_type": "markdown",
   "id": "e4a09317-788c-4d38-9900-ac3b61a3059f",
   "metadata": {},
   "source": [
    "# Validation"
   ]
  },
  {
   "cell_type": "code",
   "execution_count": 12,
   "id": "4e4f6182-2a75-42ab-bbe4-9738860ded54",
   "metadata": {},
   "outputs": [],
   "source": [
    "def has_adjacent_repitition(pan):\n",
    "    for i in range(len(pan)-1):\n",
    "        if pan[i] == pan[i+1]:\n",
    "            return True\n",
    "    return False\n",
    "\n",
    "# has_adjacent_repitition('ABCDD')\n",
    "\n",
    "\n",
    "# List Compression:\n",
    "# return any(pan[i] == pan[i+1] for i in range(len(pan)-1))"
   ]
  },
  {
   "cell_type": "code",
   "execution_count": 13,
   "id": "10f01271-3dce-4cad-a5eb-368874e1e066",
   "metadata": {},
   "outputs": [],
   "source": [
    "def is_sequential(pan):\n",
    "    for i in range(len(pan)-1):\n",
    "        if ord(pan[i+1]) - ord(pan[i])!=1:\n",
    "            return False\n",
    "    return True\n",
    "\n",
    "# is_sequential('ABCDE')\n",
    "# is_sequential('ABCXY')\n",
    "\n",
    "# List Compression:\n",
    "# return all(pan[i+1] - pan[i] != 1 for i in range(len(pan)-1))"
   ]
  },
  {
   "cell_type": "code",
   "execution_count": 14,
   "id": "0bd357f5-8741-4c03-b3a7-f3735fa1a225",
   "metadata": {},
   "outputs": [
    {
     "name": "stdout",
     "output_type": "stream",
     "text": [
      "  Pan_Numbers   Status\n",
      "0  VGLOD3180G    Valid\n",
      "1  PHOXD7232L    Valid\n",
      "2  MGEPH6532A    Valid\n",
      "3  JJCHK4574O  Invalid\n",
      "4  XTQIJ2330L  Invalid\n",
      "5  HTJYM3835H    Valid\n",
      "6  YQTAP6661X  Invalid\n",
      "7  HVOFE5635Y    Valid\n",
      "8  HYUIJ7902R    Valid\n",
      "9  IDSMT3429E    Valid\n"
     ]
    }
   ],
   "source": [
    "def is_valid_pan(pan):\n",
    "    if len(pan) != 10:\n",
    "        return False\n",
    "\n",
    "    if not re.match(r'^[A-Z]{5}[0-9]{4}[A-Z]$',pan):\n",
    "         return False\n",
    "\n",
    "    if has_adjacent_repitition(pan):\n",
    "         return False\n",
    "\n",
    "    if is_sequential(pan):\n",
    "        return False\n",
    "\n",
    "    return True\n",
    "\n",
    "df['Status'] = df['Pan_Numbers'].apply(lambda x:\"Valid\" if is_valid_pan(x) else \"Invalid\")\n",
    "print(df.head(10))\n",
    "    "
   ]
  },
  {
   "cell_type": "code",
   "execution_count": 22,
   "id": "102f5d2c-2da4-4735-8bbe-cef11628c359",
   "metadata": {},
   "outputs": [],
   "source": [
    "valid_count = (df['Status'] == 'Valid').sum()\n",
    "invalid_count = (df['Status'] == 'Invalid').sum()\n",
    "missing_count = total_records - (valid_count + invalid_count)"
   ]
  },
  {
   "cell_type": "code",
   "execution_count": 23,
   "id": "6a0d4c2c-a58b-4c91-ae55-2c415df3493f",
   "metadata": {},
   "outputs": [
    {
     "name": "stdout",
     "output_type": "stream",
     "text": [
      "Total records =  10000\n",
      "Valid =  3193\n",
      "Invalid =  5832\n",
      "Missing =  975\n"
     ]
    }
   ],
   "source": [
    "print('Total records = ',total_records)\n",
    "print('Valid = ',valid_count)\n",
    "print('Invalid = ',invalid_count)\n",
    "print('Missing = ',total_records - (valid_count + invalid_count))\n"
   ]
  },
  {
   "cell_type": "code",
   "execution_count": 17,
   "id": "66126649-0e8c-4f8e-96c2-5f5e25ad5872",
   "metadata": {},
   "outputs": [
    {
     "data": {
      "text/html": [
       "<div>\n",
       "<style scoped>\n",
       "    .dataframe tbody tr th:only-of-type {\n",
       "        vertical-align: middle;\n",
       "    }\n",
       "\n",
       "    .dataframe tbody tr th {\n",
       "        vertical-align: top;\n",
       "    }\n",
       "\n",
       "    .dataframe thead th {\n",
       "        text-align: right;\n",
       "    }\n",
       "</style>\n",
       "<table border=\"1\" class=\"dataframe\">\n",
       "  <thead>\n",
       "    <tr style=\"text-align: right;\">\n",
       "      <th></th>\n",
       "      <th>Pan_Numbers</th>\n",
       "      <th>Status</th>\n",
       "    </tr>\n",
       "  </thead>\n",
       "  <tbody>\n",
       "    <tr>\n",
       "      <th>0</th>\n",
       "      <td>VGLOD3180G</td>\n",
       "      <td>Valid</td>\n",
       "    </tr>\n",
       "    <tr>\n",
       "      <th>1</th>\n",
       "      <td>PHOXD7232L</td>\n",
       "      <td>Valid</td>\n",
       "    </tr>\n",
       "    <tr>\n",
       "      <th>2</th>\n",
       "      <td>MGEPH6532A</td>\n",
       "      <td>Valid</td>\n",
       "    </tr>\n",
       "    <tr>\n",
       "      <th>3</th>\n",
       "      <td>JJCHK4574O</td>\n",
       "      <td>Invalid</td>\n",
       "    </tr>\n",
       "    <tr>\n",
       "      <th>4</th>\n",
       "      <td>XTQIJ2330L</td>\n",
       "      <td>Invalid</td>\n",
       "    </tr>\n",
       "  </tbody>\n",
       "</table>\n",
       "</div>"
      ],
      "text/plain": [
       "  Pan_Numbers   Status\n",
       "0  VGLOD3180G    Valid\n",
       "1  PHOXD7232L    Valid\n",
       "2  MGEPH6532A    Valid\n",
       "3  JJCHK4574O  Invalid\n",
       "4  XTQIJ2330L  Invalid"
      ]
     },
     "execution_count": 17,
     "metadata": {},
     "output_type": "execute_result"
    }
   ],
   "source": [
    "df.head()"
   ]
  },
  {
   "cell_type": "code",
   "execution_count": 18,
   "id": "427cd83d-73df-4f91-9df6-d61e2aa461ea",
   "metadata": {},
   "outputs": [
    {
     "data": {
      "text/html": [
       "<div>\n",
       "<style scoped>\n",
       "    .dataframe tbody tr th:only-of-type {\n",
       "        vertical-align: middle;\n",
       "    }\n",
       "\n",
       "    .dataframe tbody tr th {\n",
       "        vertical-align: top;\n",
       "    }\n",
       "\n",
       "    .dataframe thead th {\n",
       "        text-align: right;\n",
       "    }\n",
       "</style>\n",
       "<table border=\"1\" class=\"dataframe\">\n",
       "  <thead>\n",
       "    <tr style=\"text-align: right;\">\n",
       "      <th></th>\n",
       "      <th>Pan_Numbers</th>\n",
       "      <th>Status</th>\n",
       "    </tr>\n",
       "  </thead>\n",
       "  <tbody>\n",
       "    <tr>\n",
       "      <th>9994</th>\n",
       "      <td>ZMVA03025O</td>\n",
       "      <td>Invalid</td>\n",
       "    </tr>\n",
       "    <tr>\n",
       "      <th>9995</th>\n",
       "      <td>TNGUY429!V</td>\n",
       "      <td>Invalid</td>\n",
       "    </tr>\n",
       "    <tr>\n",
       "      <th>9996</th>\n",
       "      <td>SMMN33673G</td>\n",
       "      <td>Invalid</td>\n",
       "    </tr>\n",
       "    <tr>\n",
       "      <th>9998</th>\n",
       "      <td>RLAI69795T</td>\n",
       "      <td>Invalid</td>\n",
       "    </tr>\n",
       "    <tr>\n",
       "      <th>9999</th>\n",
       "      <td>YWY2482</td>\n",
       "      <td>Invalid</td>\n",
       "    </tr>\n",
       "  </tbody>\n",
       "</table>\n",
       "</div>"
      ],
      "text/plain": [
       "     Pan_Numbers   Status\n",
       "9994  ZMVA03025O  Invalid\n",
       "9995  TNGUY429!V  Invalid\n",
       "9996  SMMN33673G  Invalid\n",
       "9998  RLAI69795T  Invalid\n",
       "9999     YWY2482  Invalid"
      ]
     },
     "execution_count": 18,
     "metadata": {},
     "output_type": "execute_result"
    }
   ],
   "source": [
    "df.tail()"
   ]
  },
  {
   "cell_type": "code",
   "execution_count": 26,
   "id": "9b4b07d8-cc5e-41e6-9ae2-e0210e3f7a2b",
   "metadata": {},
   "outputs": [
    {
     "name": "stdout",
     "output_type": "stream",
     "text": [
      "   TOTAL PROCESSED RECORDS  TOTAL VALID COUNT  TOTAL INVALID COUNT  \\\n",
      "0                    10000               3193                 5832   \n",
      "\n",
      "   TOTAL MISSING COUNT  \n",
      "0                  975  \n"
     ]
    }
   ],
   "source": [
    "df_summary = pd.DataFrame({\"TOTAL PROCESSED RECORDS\": [total_records],\n",
    "                           \"TOTAL VALID COUNT\": [valid_count],\n",
    "                           \"TOTAL INVALID COUNT\": [invalid_count],\n",
    "                           \"TOTAL MISSING COUNT\": [missing_count]})\n",
    "\n",
    "print(df_summary)\n",
    "                           "
   ]
  },
  {
   "cell_type": "code",
   "execution_count": 27,
   "id": "941e23c5-2eb9-4f8c-ad65-d554d0119000",
   "metadata": {},
   "outputs": [],
   "source": [
    "with pd.ExcelWriter(\"PAN VALIDATION RESULT.xlsx\")as writer:\n",
    "    df.to_excel(writer,sheet_name=\"PAN VAlidatons\",index=False)\n",
    "    df_summary.to_excel(writer,sheet_name=\"SUMMARY\",index=False)"
   ]
  },
  {
   "cell_type": "code",
   "execution_count": null,
   "id": "7421c390-c7e2-45a4-87aa-7bdb226201aa",
   "metadata": {},
   "outputs": [],
   "source": []
  }
 ],
 "metadata": {
  "kernelspec": {
   "display_name": "Python [conda env:base] *",
   "language": "python",
   "name": "conda-base-py"
  },
  "language_info": {
   "codemirror_mode": {
    "name": "ipython",
    "version": 3
   },
   "file_extension": ".py",
   "mimetype": "text/x-python",
   "name": "python",
   "nbconvert_exporter": "python",
   "pygments_lexer": "ipython3",
   "version": "3.12.7"
  }
 },
 "nbformat": 4,
 "nbformat_minor": 5
}
